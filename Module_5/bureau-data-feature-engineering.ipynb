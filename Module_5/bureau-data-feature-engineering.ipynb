version https://git-lfs.github.com/spec/v1
oid sha256:19d1b309c6958749f148ee3389f37a0583c2e500518408679804d35579eabd1e
size 72083
