version https://git-lfs.github.com/spec/v1
oid sha256:bf73f1afa4cd9e67450395de9cb27eb0692af3b322c9aa5245232cc640bdf6d0
size 187836
