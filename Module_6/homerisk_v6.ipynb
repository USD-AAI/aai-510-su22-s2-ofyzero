version https://git-lfs.github.com/spec/v1
oid sha256:8b971bb02cd9cb55447775e4ee4ce01419a57b5e0b0c6e5b32b906966958d92e
size 144192
